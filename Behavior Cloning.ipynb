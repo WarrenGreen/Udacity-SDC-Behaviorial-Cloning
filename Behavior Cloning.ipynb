{
 "cells": [
  {
   "cell_type": "markdown",
   "metadata": {},
   "source": [
    "# Behavior Cloning"
   ]
  },
  {
   "cell_type": "markdown",
   "metadata": {},
   "source": [
    "### Data Augmentation and Formatting\n",
    "Flip images and measurements"
   ]
  },
  {
   "cell_type": "code",
   "execution_count": 1,
   "metadata": {
    "collapsed": true
   },
   "outputs": [],
   "source": [
    "import csv\n",
    "import cv2\n",
    "import numpy as np"
   ]
  },
  {
   "cell_type": "code",
   "execution_count": 20,
   "metadata": {},
   "outputs": [
    {
     "ename": "KeyboardInterrupt",
     "evalue": "",
     "output_type": "error",
     "traceback": [
      "\u001b[0;31m---------------------------------------------------------------------------\u001b[0m",
      "\u001b[0;31mKeyboardInterrupt\u001b[0m                         Traceback (most recent call last)",
      "\u001b[0;32m<ipython-input-20-19618c55e71e>\u001b[0m in \u001b[0;36m<module>\u001b[0;34m()\u001b[0m\n\u001b[1;32m     18\u001b[0m         \u001b[0mimg\u001b[0m \u001b[0;34m=\u001b[0m \u001b[0mnp\u001b[0m\u001b[0;34m.\u001b[0m\u001b[0mfliplr\u001b[0m\u001b[0;34m(\u001b[0m\u001b[0mimg\u001b[0m\u001b[0;34m)\u001b[0m\u001b[0;34m\u001b[0m\u001b[0m\n\u001b[1;32m     19\u001b[0m         \u001b[0mfw\u001b[0m\u001b[0;34m.\u001b[0m\u001b[0mwrite\u001b[0m\u001b[0;34m(\u001b[0m\u001b[0;34m\"{},{},{},{},{}\\n\"\u001b[0m\u001b[0;34m.\u001b[0m\u001b[0mformat\u001b[0m\u001b[0;34m(\u001b[0m\u001b[0mnew_filename\u001b[0m\u001b[0;34m,\u001b[0m \u001b[0;34m-\u001b[0m\u001b[0;36m1.0\u001b[0m \u001b[0;34m*\u001b[0m \u001b[0mfloat\u001b[0m\u001b[0;34m(\u001b[0m\u001b[0mline\u001b[0m\u001b[0;34m[\u001b[0m\u001b[0;36m1\u001b[0m\u001b[0;34m]\u001b[0m\u001b[0;34m)\u001b[0m\u001b[0;34m,\u001b[0m \u001b[0mline\u001b[0m\u001b[0;34m[\u001b[0m\u001b[0;36m2\u001b[0m\u001b[0;34m]\u001b[0m\u001b[0;34m,\u001b[0m \u001b[0mline\u001b[0m\u001b[0;34m[\u001b[0m\u001b[0;36m3\u001b[0m\u001b[0;34m]\u001b[0m\u001b[0;34m,\u001b[0m \u001b[0mline\u001b[0m\u001b[0;34m[\u001b[0m\u001b[0;36m4\u001b[0m\u001b[0;34m]\u001b[0m\u001b[0;34m)\u001b[0m\u001b[0;34m)\u001b[0m\u001b[0;34m\u001b[0m\u001b[0m\n\u001b[0;32m---> 20\u001b[0;31m         \u001b[0mcv2\u001b[0m\u001b[0;34m.\u001b[0m\u001b[0mimwrite\u001b[0m\u001b[0;34m(\u001b[0m\u001b[0mnew_filename\u001b[0m\u001b[0;34m,\u001b[0m \u001b[0mimg\u001b[0m\u001b[0;34m)\u001b[0m\u001b[0;34m\u001b[0m\u001b[0m\n\u001b[0m\u001b[1;32m     21\u001b[0m \u001b[0;34m\u001b[0m\u001b[0m\n\u001b[1;32m     22\u001b[0m \u001b[0mfw\u001b[0m\u001b[0;34m.\u001b[0m\u001b[0mclose\u001b[0m\u001b[0;34m(\u001b[0m\u001b[0;34m)\u001b[0m\u001b[0;34m\u001b[0m\u001b[0m\n",
      "\u001b[0;31mKeyboardInterrupt\u001b[0m: "
     ]
    }
   ],
   "source": [
    "lines = []\n",
    "with open(\"./data/driving_log.csv\") as f:\n",
    "    reader = csv.reader(f)\n",
    "    for line in reader:\n",
    "        filename = line[0].split('/')\n",
    "        try:\n",
    "            filename = '/'.join(['data',filename[-2],filename[-1]])\n",
    "        except:\n",
    "            print(filename, \"::\", line)\n",
    "        lines.append([filename, *line[-4:]])\n",
    "\n",
    "fw = open(\"./data/driving_log_updated.csv\", \"w\")\n",
    "for line in lines:\n",
    "    fw.write(\"{},{},{},{},{}\\n\".format(*line))\n",
    "    if abs(float(line[1])) > 0.3:\n",
    "        new_filename = line[0][:-4]+\"_flipped.jpg\"\n",
    "        img = cv2.imread(line[0], cv2.IMREAD_COLOR)\n",
    "        img = np.fliplr(img)\n",
    "        fw.write(\"{},{},{},{},{}\\n\".format(new_filename, -1.0 * float(line[1]), line[2], line[3], line[4]))\n",
    "        cv2.imwrite(new_filename, img)\n",
    "    \n",
    "fw.close()"
   ]
  },
  {
   "cell_type": "markdown",
   "metadata": {},
   "source": [
    "Crop Images"
   ]
  },
  {
   "cell_type": "code",
   "execution_count": 3,
   "metadata": {
    "collapsed": true
   },
   "outputs": [],
   "source": [
    "# 55 off top\n",
    "# 30 off bottom\n",
    "#fw = open(\"./data/driving_log_updated_cropped.csv\", \"w\")\n",
    "#with open(\"./data/driving_log_updated.csv\") as f:\n",
    "#    reader = csv.reader(f)\n",
    "#    for line in reader:\n",
    "#        filename = line[0]\n",
    "#        img = cv2.imread(filename)\n",
    "#        img = img[55:-30, :]\n",
    "#        f_split = filename.split(\"/\")\n",
    "#        f_split[-2] = \"CROPPED_IMG\"\n",
    "#        new_filename = '/'.join(f_split)\n",
    "#        fw.write(\"{},{},{},{},{}\\n\".format(new_filename, *line[1:]))\n",
    "#        cv2.imwrite(new_filename, img)\n",
    "#    \n",
    "#fw.close()"
   ]
  },
  {
   "cell_type": "markdown",
   "metadata": {},
   "source": [
    "### Define Datasets"
   ]
  },
  {
   "cell_type": "code",
   "execution_count": 4,
   "metadata": {
    "collapsed": true
   },
   "outputs": [],
   "source": [
    "import random\n",
    "import csv\n",
    "\n",
    "TEST_SPLIT_RATIO = 0.2\n",
    "VALIDATION_SPLIT_RATIO = 0.1\n",
    "\n",
    "train_data = []\n",
    "test_data = []\n",
    "validation_data = []\n",
    "\n",
    "with open(\"./data/driving_log_updated.csv\") as f:\n",
    "    reader = csv.reader(f)\n",
    "    for line in reader:\n",
    "        rand = random.random()\n",
    "        if rand < TEST_SPLIT_RATIO:\n",
    "            test_data.append(line)\n",
    "        elif rand < VALIDATION_SPLIT_RATIO+TEST_SPLIT_RATIO:\n",
    "            validation_data.append(line)\n",
    "        else:\n",
    "            train_data.append(line)\n"
   ]
  },
  {
   "cell_type": "code",
   "execution_count": 5,
   "metadata": {},
   "outputs": [
    {
     "name": "stdout",
     "output_type": "stream",
     "text": [
      "13322 0.7022667369530838\n",
      "3787 0.1996309963099631\n",
      "1861 0.09810226673695309\n"
     ]
    }
   ],
   "source": [
    "total = 1.0* len(train_data)+len(test_data)+len(validation_data)\n",
    "print(len(train_data), len(train_data)/total )\n",
    "print(len(test_data), len(test_data)/total)\n",
    "print(len(validation_data), len(validation_data)/total)\n"
   ]
  },
  {
   "cell_type": "code",
   "execution_count": 21,
   "metadata": {
    "collapsed": true
   },
   "outputs": [],
   "source": [
    "import sklearn\n",
    "import random\n",
    "\n",
    "def generator(samples, batch_size=32):\n",
    "    num_samples = len(samples)\n",
    "    samples = sklearn.utils.shuffle(samples)\n",
    "    offset = 0\n",
    "    while 1: # Loop forever so the generator never terminates\n",
    "                    \n",
    "        if offset >= len(samples):\n",
    "            offset = 0\n",
    "        vals = np.zeros((batch_size, 1))\n",
    "        imgs = np.zeros((batch_size, 160, 320, 3))\n",
    "        index = 0\n",
    "        while index < batch_size:\n",
    "            batch_sample = samples[offset]\n",
    "            offset += 1\n",
    "            if offset >= len(samples):\n",
    "                offset = 0\n",
    "            if None and abs(float(batch_sample[1])) < .4 and random.random() < .5:\n",
    "                continue\n",
    "            filename = batch_sample[0]\n",
    "            center_image = cv2.imread(filename)\n",
    "            imgs[index] = center_image\n",
    "            try:\n",
    "                float(batch_sample[1])\n",
    "            except:\n",
    "                print(batch_sample[1])\n",
    "            vals[index][0] = float(batch_sample[1])\n",
    "            index += 1\n",
    "\n",
    "        # trim image to only see section with road\n",
    "        X_train = imgs\n",
    "        y_train = vals\n",
    "            \n",
    "        yield X_train, y_train\n"
   ]
  },
  {
   "cell_type": "markdown",
   "metadata": {},
   "source": [
    "### Define Hyperparameters"
   ]
  },
  {
   "cell_type": "code",
   "execution_count": 35,
   "metadata": {
    "collapsed": true
   },
   "outputs": [],
   "source": [
    "epochs = 70\n",
    "batch_size = 64\n",
    "\n",
    "train_data_size = len(train_data)\n",
    "test_data_size = len(test_data)\n",
    "validation_data_size = len(validation_data)"
   ]
  },
  {
   "cell_type": "markdown",
   "metadata": {},
   "source": [
    "### Define Model and Train"
   ]
  },
  {
   "cell_type": "code",
   "execution_count": 23,
   "metadata": {
    "collapsed": true
   },
   "outputs": [],
   "source": [
    "train_generator = generator(train_data, batch_size=batch_size)\n",
    "validation_generator = generator(validation_data, batch_size=batch_size)\n",
    "test_generator = generator(test_data, batch_size=batch_size)"
   ]
  },
  {
   "cell_type": "code",
   "execution_count": 9,
   "metadata": {},
   "outputs": [
    {
     "name": "stderr",
     "output_type": "stream",
     "text": [
      "Using TensorFlow backend.\n"
     ]
    }
   ],
   "source": [
    "from keras.models import Sequential\n",
    "from keras.layers import Dense, Activation, Lambda, Flatten, Dropout\n",
    "from keras.layers.convolutional import Conv2D, Cropping2D\n",
    "from keras.layers.advanced_activations import ELU\n",
    "import keras.regularizers as regularizers\n",
    "\n",
    "model = Sequential()\n",
    "model.add(Cropping2D(cropping=((55,30),(0,0)), input_shape=(160, 320, 3)))\n",
    "model.add(Lambda(lambda x: x/127.5 - 1.0, input_shape=(75, 320, 3)))\n",
    "model.add(Conv2D(16, (5,5), strides=(4, 4)))\n",
    "model.add(ELU())\n",
    "model.add(Conv2D(32, (5,5), strides=(2, 2)))\n",
    "model.add(ELU())\n",
    "model.add(Conv2D(64, (3,3), strides=(2, 2)))\n",
    "model.add(ELU())\n",
    "model.add(Conv2D(64, (3,3), strides=(2, 2)))\n",
    "model.add(ELU())\n",
    "model.add(Flatten())\n",
    "model.add(Dropout(.2))\n",
    "model.add(Dense(1024,kernel_regularizer=regularizers.l2(0.01)))\n",
    "model.add(ELU())\n",
    "model.add(Dense(512,kernel_regularizer=regularizers.l2(0.01)))\n",
    "model.add(Dropout(.5))\n",
    "model.add(ELU())\n",
    "model.add(Dense(64,kernel_regularizer=regularizers.l2(0.01)))\n",
    "model.add(ELU())\n",
    "model.add(Dense(1))\n"
   ]
  },
  {
   "cell_type": "code",
   "execution_count": 10,
   "metadata": {
    "collapsed": true
   },
   "outputs": [],
   "source": [
    "from keras.models import Sequential\n",
    "from keras.layers import Dense, Activation, Lambda, Flatten, Dropout\n",
    "from keras.layers.convolutional import Conv2D, Cropping2D\n",
    "from keras.layers.advanced_activations import ELU\n",
    "\n",
    "model = Sequential()\n",
    "model.add(Cropping2D(cropping=((55,30),(0,0)), input_shape=(160, 320, 3)))\n",
    "model.add(Lambda(lambda x: x/127.5 - 1.0, input_shape=(75, 320, 3)))\n",
    "model.add(Conv2D(16, (8, 8), strides=(4, 4), padding=\"same\"))\n",
    "model.add(ELU())\n",
    "model.add(Conv2D(32, (5, 5), strides=(2, 2), padding=\"same\"))\n",
    "model.add(ELU())\n",
    "model.add(Conv2D(64, (5, 5), strides=(2, 2), padding=\"same\"))\n",
    "model.add(Flatten())\n",
    "model.add(Dropout(.2))\n",
    "model.add(ELU())\n",
    "model.add(Dense(512))\n",
    "model.add(Dropout(.5))\n",
    "model.add(ELU())\n",
    "model.add(Dense(1))"
   ]
  },
  {
   "cell_type": "code",
   "execution_count": 24,
   "metadata": {},
   "outputs": [],
   "source": [
    "from keras.optimizers import Adam\n",
    "\n",
    "model.compile(optimizer=Adam(lr=0.0001), loss='mse', metrics=[ 'mse'])"
   ]
  },
  {
   "cell_type": "code",
   "execution_count": 36,
   "metadata": {},
   "outputs": [
    {
     "name": "stdout",
     "output_type": "stream",
     "text": [
      "Epoch 61/70\n",
      "70/69 [==============================] - 14s - loss: 0.0215 - mean_squared_error: 0.0185 - val_loss: 0.0219 - val_mean_squared_error: 0.0187\n",
      "Epoch 62/70\n",
      "70/69 [==============================] - 13s - loss: 0.0215 - mean_squared_error: 0.0186 - val_loss: 0.0212 - val_mean_squared_error: 0.0184\n",
      "Epoch 63/70\n",
      "70/69 [==============================] - 13s - loss: 0.0215 - mean_squared_error: 0.0188 - val_loss: 0.0209 - val_mean_squared_error: 0.0181\n",
      "Epoch 64/70\n",
      "70/69 [==============================] - 13s - loss: 0.0210 - mean_squared_error: 0.0182 - val_loss: 0.0213 - val_mean_squared_error: 0.0184\n",
      "Epoch 65/70\n",
      "70/69 [==============================] - 13s - loss: 0.0212 - mean_squared_error: 0.0185 - val_loss: 0.0218 - val_mean_squared_error: 0.0189\n",
      "Epoch 66/70\n",
      "70/69 [==============================] - 13s - loss: 0.0213 - mean_squared_error: 0.0185 - val_loss: 0.0209 - val_mean_squared_error: 0.0182\n",
      "Epoch 67/70\n",
      "70/69 [==============================] - 13s - loss: 0.0209 - mean_squared_error: 0.0181 - val_loss: 0.0212 - val_mean_squared_error: 0.0184\n",
      "Epoch 68/70\n",
      "70/69 [==============================] - 13s - loss: 0.0211 - mean_squared_error: 0.0182 - val_loss: 0.0215 - val_mean_squared_error: 0.0184\n",
      "Epoch 69/70\n",
      "70/69 [==============================] - 13s - loss: 0.0210 - mean_squared_error: 0.0182 - val_loss: 0.0208 - val_mean_squared_error: 0.0181\n",
      "Epoch 70/70\n",
      "70/69 [==============================] - 13s - loss: 0.0207 - mean_squared_error: 0.0179 - val_loss: 0.0215 - val_mean_squared_error: 0.0187\n"
     ]
    }
   ],
   "source": [
    "from keras.callbacks import ModelCheckpoint, Callback\n",
    "checkpoint_callback = ModelCheckpoint('model{epoch:02d}.h5')\n",
    "history = model.fit_generator(train_generator, steps_per_epoch=train_data_size/batch_size/3, \\\n",
    "                   validation_data=validation_generator, validation_steps=validation_data_size/batch_size, \\\n",
    "                   epochs=epochs, max_q_size=1, callbacks=[checkpoint_callback], initial_epoch=60)"
   ]
  },
  {
   "cell_type": "markdown",
   "metadata": {},
   "source": [
    "### Evaluate"
   ]
  },
  {
   "cell_type": "code",
   "execution_count": 37,
   "metadata": {
    "collapsed": true
   },
   "outputs": [],
   "source": [
    "metrics = model.evaluate_generator(test_generator, steps=test_data_size/batch_size)"
   ]
  },
  {
   "cell_type": "code",
   "execution_count": 33,
   "metadata": {},
   "outputs": [
    {
     "name": "stdout",
     "output_type": "stream",
     "text": [
      "('loss', 0.020299196351940434)\n",
      "('mean_squared_error', 0.017298458182873826)\n"
     ]
    }
   ],
   "source": [
    "for i in zip(model.metrics_names, metrics):\n",
    "    print(i)"
   ]
  },
  {
   "cell_type": "code",
   "execution_count": 38,
   "metadata": {},
   "outputs": [
    {
     "name": "stdout",
     "output_type": "stream",
     "text": [
      "('loss', 0.019879928541680178)\n",
      "('mean_squared_error', 0.017041624966077508)\n"
     ]
    }
   ],
   "source": [
    "for i in zip(model.metrics_names, metrics):\n",
    "    print(i)"
   ]
  },
  {
   "cell_type": "code",
   "execution_count": 39,
   "metadata": {
    "collapsed": true
   },
   "outputs": [],
   "source": [
    "model.save(\"model.h5\")"
   ]
  },
  {
   "cell_type": "code",
   "execution_count": null,
   "metadata": {
    "collapsed": true
   },
   "outputs": [],
   "source": []
  }
 ],
 "metadata": {
  "kernelspec": {
   "display_name": "Python 3",
   "language": "python",
   "name": "python3"
  },
  "language_info": {
   "codemirror_mode": {
    "name": "ipython",
    "version": 3
   },
   "file_extension": ".py",
   "mimetype": "text/x-python",
   "name": "python",
   "nbconvert_exporter": "python",
   "pygments_lexer": "ipython3",
   "version": "3.5.2"
  },
  "widgets": {
   "state": {},
   "version": "1.1.2"
  }
 },
 "nbformat": 4,
 "nbformat_minor": 2
}
