{
 "cells": [
  {
   "cell_type": "markdown",
   "metadata": {},
   "source": [
    "# Behavior Cloning"
   ]
  },
  {
   "cell_type": "markdown",
   "metadata": {},
   "source": [
    "### Data Augmentation and Formatting\n",
    "Flip images and measurements"
   ]
  },
  {
   "cell_type": "code",
   "execution_count": 1,
   "metadata": {
    "collapsed": true
   },
   "outputs": [],
   "source": [
    "import csv\n",
    "import cv2\n",
    "import numpy as np"
   ]
  },
  {
   "cell_type": "code",
   "execution_count": 150,
   "metadata": {},
   "outputs": [
    {
     "name": "stdout",
     "output_type": "stream",
     "text": [
      "19001\n"
     ]
    }
   ],
   "source": [
    "from skimage.transform import resize\n",
    "\n",
    "\n",
    "lines = []\n",
    "with open(\"./data/driving_log.csv\") as f:\n",
    "    reader = csv.reader(f)\n",
    "    for line in reader:\n",
    "        filename = line[0].split('/')\n",
    "        try:\n",
    "            old_filename = '/'.join(['data',filename[-2],filename[-1]])\n",
    "            new_filename = '/'.join(['data_cropped',filename[-2],filename[-1]])\n",
    "            img = cv2.imread(old_filename, cv2.IMREAD_COLOR)\n",
    "            img = resize(img, (32,32), mode=\"reflect\")\n",
    "            cv2.imwrite(new_filename, img)\n",
    "            \n",
    "        except Exception as e:\n",
    "            print(e)\n",
    "            print(old_filename, \"::\", new_filename)\n",
    "        lines.append([new_filename, *line[-4:]])\n",
    "\n",
    "print(len(lines))\n",
    "fw = open(\"./data_cropped/driving_log_updated.csv\", \"w\")\n",
    "for line in lines:\n",
    "    fw.write(\"{},{},{},{},{}\\n\".format(*line))\n",
    "    if None and abs(float(line[1])) > 0.3:\n",
    "        new_filename = line[0][:-4]+\"_flipped.jpg\"\n",
    "        img = cv2.imread(line[0], cv2.IMREAD_COLOR)\n",
    "        img = np.fliplr(img)\n",
    "        fw.write(\"{},{},{},{},{}\\n\".format(new_filename, -1.0 * float(line[1]), line[2], line[3], line[4]))\n",
    "        cv2.imwrite(new_filename, img)\n",
    "    \n",
    "fw.close()"
   ]
  },
  {
   "cell_type": "markdown",
   "metadata": {},
   "source": [
    "Crop Images"
   ]
  },
  {
   "cell_type": "code",
   "execution_count": null,
   "metadata": {
    "collapsed": true
   },
   "outputs": [],
   "source": [
    "# 55 off top\n",
    "# 30 off bottom\n",
    "#fw = open(\"./data/driving_log_updated_cropped.csv\", \"w\")\n",
    "#with open(\"./data/driving_log_updated.csv\") as f:\n",
    "#    reader = csv.reader(f)\n",
    "#    for line in reader:\n",
    "#        filename = line[0]\n",
    "#        img = cv2.imread(filename)\n",
    "#        img = img[55:-30, :]\n",
    "#        f_split = filename.split(\"/\")\n",
    "#        f_split[-2] = \"CROPPED_IMG\"\n",
    "#        new_filename = '/'.join(f_split)\n",
    "#        fw.write(\"{},{},{},{},{}\\n\".format(new_filename, *line[1:]))\n",
    "#        cv2.imwrite(new_filename, img)\n",
    "#    \n",
    "#fw.close()"
   ]
  },
  {
   "cell_type": "markdown",
   "metadata": {},
   "source": [
    "### Define Datasets"
   ]
  },
  {
   "cell_type": "code",
   "execution_count": 151,
   "metadata": {
    "collapsed": true
   },
   "outputs": [],
   "source": [
    "import random\n",
    "import csv\n",
    "\n",
    "TEST_SPLIT_RATIO = 0.2\n",
    "VALIDATION_SPLIT_RATIO = 0.2\n",
    "\n",
    "train_data = []\n",
    "test_data = []\n",
    "validation_data = []\n",
    "\n",
    "with open(\"./data_cropped/driving_log_updated.csv\") as f:\n",
    "    reader = csv.reader(f)\n",
    "    for line in reader:\n",
    "        rand = random.random()\n",
    "        if rand < TEST_SPLIT_RATIO:\n",
    "            test_data.append(line)\n",
    "        elif rand < VALIDATION_SPLIT_RATIO+TEST_SPLIT_RATIO:\n",
    "            validation_data.append(line)\n",
    "        else:\n",
    "            train_data.append(line)\n"
   ]
  },
  {
   "cell_type": "code",
   "execution_count": 152,
   "metadata": {},
   "outputs": [
    {
     "name": "stdout",
     "output_type": "stream",
     "text": [
      "11473 0.6038103257723277\n",
      "3808 0.2004105047102784\n",
      "3720 0.19577916951739383\n"
     ]
    }
   ],
   "source": [
    "total = 1.0* len(train_data)+len(test_data)+len(validation_data)\n",
    "print(len(train_data), len(train_data)/total )\n",
    "print(len(test_data), len(test_data)/total)\n",
    "print(len(validation_data), len(validation_data)/total)\n"
   ]
  },
  {
   "cell_type": "code",
   "execution_count": 153,
   "metadata": {
    "collapsed": true
   },
   "outputs": [],
   "source": [
    "import sklearn\n",
    "import random\n",
    "\n",
    "def generator(samples, batch_size=32):\n",
    "    num_samples = len(samples)\n",
    "    samples = sklearn.utils.shuffle(samples)\n",
    "    offset = 0\n",
    "    while 1: # Loop forever so the generator never terminates\n",
    "                    \n",
    "        if offset >= len(samples):\n",
    "            offset = 0\n",
    "        vals = np.zeros((batch_size, 1))\n",
    "        imgs = np.zeros((batch_size, 32, 32, 3))\n",
    "        index = 0\n",
    "        while index < batch_size:\n",
    "            batch_sample = samples[offset]\n",
    "            offset += 1\n",
    "            if offset >= len(samples):\n",
    "                offset = 0\n",
    "            if False and abs(float(batch_sample[1])) <.3 and random.random() < .4:\n",
    "                continue\n",
    "            filename = batch_sample[0]\n",
    "            center_image = cv2.imread(filename)\n",
    "            imgs[index] = center_image\n",
    "            vals[index][0] = float(batch_sample[1])\n",
    "            index += 1\n",
    "\n",
    "        # trim image to only see section with road\n",
    "        X_train = imgs\n",
    "        y_train = vals\n",
    "            \n",
    "        yield X_train, y_train\n"
   ]
  },
  {
   "cell_type": "markdown",
   "metadata": {},
   "source": [
    "### Define Hyperparameters"
   ]
  },
  {
   "cell_type": "code",
   "execution_count": 154,
   "metadata": {
    "collapsed": true
   },
   "outputs": [],
   "source": [
    "epochs = 200\n",
    "batch_size = 64\n",
    "\n",
    "train_data_size = len(train_data)\n",
    "test_data_size = len(test_data)\n",
    "validation_data_size = len(validation_data)"
   ]
  },
  {
   "cell_type": "markdown",
   "metadata": {},
   "source": [
    "### Define Model and Train"
   ]
  },
  {
   "cell_type": "code",
   "execution_count": 155,
   "metadata": {
    "collapsed": true
   },
   "outputs": [],
   "source": [
    "train_generator = generator(train_data, batch_size=batch_size)\n",
    "validation_generator = generator(validation_data, batch_size=batch_size)\n",
    "test_generator = generator(test_data, batch_size=batch_size)"
   ]
  },
  {
   "cell_type": "code",
   "execution_count": 134,
   "metadata": {},
   "outputs": [],
   "source": [
    "from keras.models import Sequential\n",
    "from keras.layers import Dense, Activation, Lambda, Flatten, Dropout\n",
    "from keras.layers.convolutional import Conv2D, Cropping2D\n",
    "from keras.layers.advanced_activations import ELU\n",
    "import keras.regularizers as regularizers\n",
    "\n",
    "model = Sequential()\n",
    "model.add(Cropping2D(cropping=((10,2),(0,0)), input_shape=(32, 32, 3)))\n",
    "model.add(Lambda(lambda x: x/127.5 - 1.0, input_shape=(20, 32, 3)))\n",
    "model.add(Conv2D(16, (5,5)))\n",
    "model.add(ELU())\n",
    "model.add(Conv2D(32, (5,5)))\n",
    "model.add(ELU())\n",
    "model.add(Conv2D(64, (3,3), strides=(2, 2)))\n",
    "model.add(ELU())\n",
    "model.add(Conv2D(64, (3,3), strides=(2, 2)))\n",
    "model.add(ELU())\n",
    "model.add(Flatten())\n",
    "model.add(Dropout(.2))\n",
    "model.add(Dense(1024,kernel_regularizer=regularizers.l2(0.01)))\n",
    "model.add(ELU())\n",
    "model.add(Dense(512,kernel_regularizer=regularizers.l2(0.01)))\n",
    "model.add(Dropout(.5))\n",
    "model.add(ELU())\n",
    "model.add(Dense(64,kernel_regularizer=regularizers.l2(0.01)))\n",
    "model.add(ELU())\n",
    "model.add(Dense(64,kernel_regularizer=regularizers.l2(0.01)))\n",
    "model.add(ELU())\n",
    "model.add(Dense(1))\n"
   ]
  },
  {
   "cell_type": "code",
   "execution_count": 113,
   "metadata": {},
   "outputs": [],
   "source": [
    "from keras.models import Sequential\n",
    "from keras.layers import Dense, Activation, Lambda, Flatten, Dropout\n",
    "from keras.layers.convolutional import Conv2D, Cropping2D\n",
    "from keras.layers.advanced_activations import ELU\n",
    "\n",
    "model = Sequential()\n",
    "model.add(Cropping2D(cropping=((10,2),(0,0)), input_shape=(32, 32, 3)))\n",
    "model.add(Lambda(lambda x: x/127.5 - 1.0, input_shape=(20, 32, 3)))\n",
    "model.add(Conv2D(16, (8, 8), strides=(4, 4), padding=\"same\"))\n",
    "model.add(ELU())\n",
    "model.add(Conv2D(32, (5, 5), strides=(2, 2), padding=\"same\"))\n",
    "model.add(ELU())\n",
    "model.add(Conv2D(64, (5, 5), strides=(2, 2), padding=\"same\"))\n",
    "model.add(Flatten())\n",
    "model.add(Dropout(.2))\n",
    "model.add(ELU())\n",
    "model.add(Dense(512))\n",
    "model.add(Dropout(.5))\n",
    "model.add(ELU())\n",
    "model.add(Dense(1))"
   ]
  },
  {
   "cell_type": "code",
   "execution_count": 135,
   "metadata": {
    "collapsed": true
   },
   "outputs": [],
   "source": [
    "from keras.optimizers import Adam\n",
    "\n",
    "model.compile(optimizer=Adam(lr=.0001), loss='mse', metrics=[ 'mse'])"
   ]
  },
  {
   "cell_type": "code",
   "execution_count": 156,
   "metadata": {},
   "outputs": [
    {
     "name": "stdout",
     "output_type": "stream",
     "text": [
      "Epoch 121/200\n",
      "180/179 [==============================] - 13s - loss: 0.0254 - mean_squared_error: 0.0233 - val_loss: 0.0266 - val_mean_squared_error: 0.0251\n",
      "Epoch 122/200\n",
      "180/179 [==============================] - 13s - loss: 0.0244 - mean_squared_error: 0.0232 - val_loss: 0.0264 - val_mean_squared_error: 0.0256\n",
      "Epoch 123/200\n",
      "180/179 [==============================] - 13s - loss: 0.0238 - mean_squared_error: 0.0231 - val_loss: 0.0255 - val_mean_squared_error: 0.0251\n",
      "Epoch 124/200\n",
      "180/179 [==============================] - 13s - loss: 0.0237 - mean_squared_error: 0.0233 - val_loss: 0.0254 - val_mean_squared_error: 0.0251\n",
      "Epoch 125/200\n",
      "180/179 [==============================] - 13s - loss: 0.0234 - mean_squared_error: 0.0232 - val_loss: 0.0252 - val_mean_squared_error: 0.0251\n",
      "Epoch 126/200\n",
      "180/179 [==============================] - 13s - loss: 0.0233 - mean_squared_error: 0.0232 - val_loss: 0.0252 - val_mean_squared_error: 0.0251\n",
      "Epoch 127/200\n",
      "180/179 [==============================] - 13s - loss: 0.0232 - mean_squared_error: 0.0231 - val_loss: 0.0252 - val_mean_squared_error: 0.0251\n",
      "Epoch 128/200\n",
      "180/179 [==============================] - 13s - loss: 0.0232 - mean_squared_error: 0.0232 - val_loss: 0.0251 - val_mean_squared_error: 0.0251\n",
      "Epoch 129/200\n",
      "180/179 [==============================] - 13s - loss: 0.0232 - mean_squared_error: 0.0232 - val_loss: 0.0250 - val_mean_squared_error: 0.0250\n",
      "Epoch 130/200\n",
      "180/179 [==============================] - 13s - loss: 0.0232 - mean_squared_error: 0.0232 - val_loss: 0.0249 - val_mean_squared_error: 0.0249\n",
      "Epoch 131/200\n",
      "180/179 [==============================] - 13s - loss: 0.0232 - mean_squared_error: 0.0232 - val_loss: 0.0249 - val_mean_squared_error: 0.0249\n",
      "Epoch 132/200\n",
      "180/179 [==============================] - 13s - loss: 0.0232 - mean_squared_error: 0.0232 - val_loss: 0.0250 - val_mean_squared_error: 0.0250\n",
      "Epoch 133/200\n",
      "180/179 [==============================] - 13s - loss: 0.0232 - mean_squared_error: 0.0232 - val_loss: 0.0250 - val_mean_squared_error: 0.0250\n",
      "Epoch 134/200\n",
      "180/179 [==============================] - 13s - loss: 0.0232 - mean_squared_error: 0.0232 - val_loss: 0.0248 - val_mean_squared_error: 0.0248\n",
      "Epoch 135/200\n",
      "180/179 [==============================] - 13s - loss: 0.0231 - mean_squared_error: 0.0231 - val_loss: 0.0253 - val_mean_squared_error: 0.0253\n",
      "Epoch 136/200\n",
      "180/179 [==============================] - 13s - loss: 0.0231 - mean_squared_error: 0.0231 - val_loss: 0.0252 - val_mean_squared_error: 0.0252\n",
      "Epoch 137/200\n",
      "180/179 [==============================] - 13s - loss: 0.0232 - mean_squared_error: 0.0232 - val_loss: 0.0251 - val_mean_squared_error: 0.0251\n",
      "Epoch 138/200\n",
      "180/179 [==============================] - 13s - loss: 0.0231 - mean_squared_error: 0.0231 - val_loss: 0.0251 - val_mean_squared_error: 0.0251\n",
      "Epoch 139/200\n",
      "180/179 [==============================] - 13s - loss: 0.0232 - mean_squared_error: 0.0232 - val_loss: 0.0250 - val_mean_squared_error: 0.0250\n",
      "Epoch 140/200\n",
      "180/179 [==============================] - 13s - loss: 0.0232 - mean_squared_error: 0.0232 - val_loss: 0.0252 - val_mean_squared_error: 0.0252\n",
      "Epoch 141/200\n",
      "180/179 [==============================] - 13s - loss: 0.0231 - mean_squared_error: 0.0231 - val_loss: 0.0253 - val_mean_squared_error: 0.0253\n",
      "Epoch 142/200\n",
      "180/179 [==============================] - 13s - loss: 0.0231 - mean_squared_error: 0.0231 - val_loss: 0.0250 - val_mean_squared_error: 0.0250\n",
      "Epoch 143/200\n",
      "180/179 [==============================] - 13s - loss: 0.0232 - mean_squared_error: 0.0232 - val_loss: 0.0254 - val_mean_squared_error: 0.0254\n",
      "Epoch 144/200\n",
      "180/179 [==============================] - 13s - loss: 0.0232 - mean_squared_error: 0.0232 - val_loss: 0.0256 - val_mean_squared_error: 0.0256\n",
      "Epoch 145/200\n",
      "180/179 [==============================] - 13s - loss: 0.0232 - mean_squared_error: 0.0232 - val_loss: 0.0252 - val_mean_squared_error: 0.0252\n",
      "Epoch 146/200\n",
      "180/179 [==============================] - 13s - loss: 0.0232 - mean_squared_error: 0.0232 - val_loss: 0.0250 - val_mean_squared_error: 0.0250\n",
      "Epoch 147/200\n",
      "180/179 [==============================] - 13s - loss: 0.0232 - mean_squared_error: 0.0232 - val_loss: 0.0250 - val_mean_squared_error: 0.0250\n",
      "Epoch 148/200\n",
      "180/179 [==============================] - 13s - loss: 0.0232 - mean_squared_error: 0.0232 - val_loss: 0.0254 - val_mean_squared_error: 0.0254\n",
      "Epoch 149/200\n",
      "180/179 [==============================] - 13s - loss: 0.0232 - mean_squared_error: 0.0232 - val_loss: 0.0250 - val_mean_squared_error: 0.0250\n",
      "Epoch 150/200\n",
      "180/179 [==============================] - 13s - loss: 0.0232 - mean_squared_error: 0.0232 - val_loss: 0.0251 - val_mean_squared_error: 0.0251\n",
      "Epoch 151/200\n",
      "180/179 [==============================] - 13s - loss: 0.0232 - mean_squared_error: 0.0232 - val_loss: 0.0253 - val_mean_squared_error: 0.0253\n",
      "Epoch 152/200\n",
      "180/179 [==============================] - 13s - loss: 0.0232 - mean_squared_error: 0.0232 - val_loss: 0.0251 - val_mean_squared_error: 0.0251\n",
      "Epoch 153/200\n",
      "180/179 [==============================] - 13s - loss: 0.0232 - mean_squared_error: 0.0232 - val_loss: 0.0250 - val_mean_squared_error: 0.0250\n",
      "Epoch 154/200\n",
      "180/179 [==============================] - 13s - loss: 0.0232 - mean_squared_error: 0.0232 - val_loss: 0.0249 - val_mean_squared_error: 0.0249\n",
      "Epoch 155/200\n",
      "180/179 [==============================] - 13s - loss: 0.0232 - mean_squared_error: 0.0232 - val_loss: 0.0251 - val_mean_squared_error: 0.0251\n",
      "Epoch 156/200\n",
      "180/179 [==============================] - 13s - loss: 0.0233 - mean_squared_error: 0.0233 - val_loss: 0.0253 - val_mean_squared_error: 0.0253\n",
      "Epoch 157/200\n",
      "180/179 [==============================] - 13s - loss: 0.0232 - mean_squared_error: 0.0232 - val_loss: 0.0250 - val_mean_squared_error: 0.0250\n",
      "Epoch 158/200\n",
      "180/179 [==============================] - 13s - loss: 0.0231 - mean_squared_error: 0.0231 - val_loss: 0.0249 - val_mean_squared_error: 0.0249\n",
      "Epoch 159/200\n",
      "180/179 [==============================] - 13s - loss: 0.0232 - mean_squared_error: 0.0232 - val_loss: 0.0249 - val_mean_squared_error: 0.0249\n",
      "Epoch 160/200\n",
      "180/179 [==============================] - 13s - loss: 0.0232 - mean_squared_error: 0.0232 - val_loss: 0.0255 - val_mean_squared_error: 0.0255\n",
      "Epoch 161/200\n",
      "180/179 [==============================] - 13s - loss: 0.0232 - mean_squared_error: 0.0232 - val_loss: 0.0250 - val_mean_squared_error: 0.0250\n",
      "Epoch 162/200\n",
      "180/179 [==============================] - 13s - loss: 0.0232 - mean_squared_error: 0.0232 - val_loss: 0.0250 - val_mean_squared_error: 0.0250\n",
      "Epoch 163/200\n",
      "180/179 [==============================] - 13s - loss: 0.0233 - mean_squared_error: 0.0233 - val_loss: 0.0253 - val_mean_squared_error: 0.0253\n",
      "Epoch 164/200\n",
      "180/179 [==============================] - 13s - loss: 0.0233 - mean_squared_error: 0.0233 - val_loss: 0.0249 - val_mean_squared_error: 0.0249\n",
      "Epoch 165/200\n",
      "180/179 [==============================] - 13s - loss: 0.0231 - mean_squared_error: 0.0231 - val_loss: 0.0250 - val_mean_squared_error: 0.0250\n",
      "Epoch 166/200\n",
      "180/179 [==============================] - 13s - loss: 0.0233 - mean_squared_error: 0.0233 - val_loss: 0.0250 - val_mean_squared_error: 0.0250\n",
      "Epoch 167/200\n",
      "180/179 [==============================] - 13s - loss: 0.0232 - mean_squared_error: 0.0232 - val_loss: 0.0249 - val_mean_squared_error: 0.0249\n",
      "Epoch 168/200\n",
      "180/179 [==============================] - 13s - loss: 0.0233 - mean_squared_error: 0.0233 - val_loss: 0.0249 - val_mean_squared_error: 0.0249\n",
      "Epoch 169/200\n",
      "180/179 [==============================] - 13s - loss: 0.0232 - mean_squared_error: 0.0232 - val_loss: 0.0249 - val_mean_squared_error: 0.0249\n",
      "Epoch 170/200\n",
      "180/179 [==============================] - 13s - loss: 0.0233 - mean_squared_error: 0.0233 - val_loss: 0.0253 - val_mean_squared_error: 0.0253\n",
      "Epoch 171/200\n",
      "180/179 [==============================] - 13s - loss: 0.0232 - mean_squared_error: 0.0232 - val_loss: 0.0249 - val_mean_squared_error: 0.0249\n",
      "Epoch 172/200\n",
      "180/179 [==============================] - 13s - loss: 0.0232 - mean_squared_error: 0.0232 - val_loss: 0.0250 - val_mean_squared_error: 0.0250\n",
      "Epoch 173/200\n"
     ]
    },
    {
     "name": "stdout",
     "output_type": "stream",
     "text": [
      "180/179 [==============================] - 13s - loss: 0.0232 - mean_squared_error: 0.0232 - val_loss: 0.0249 - val_mean_squared_error: 0.0249\n",
      "Epoch 174/200\n",
      "180/179 [==============================] - 13s - loss: 0.0232 - mean_squared_error: 0.0232 - val_loss: 0.0252 - val_mean_squared_error: 0.0252\n",
      "Epoch 175/200\n",
      "180/179 [==============================] - 13s - loss: 0.0232 - mean_squared_error: 0.0232 - val_loss: 0.0251 - val_mean_squared_error: 0.0251\n",
      "Epoch 176/200\n",
      "180/179 [==============================] - 13s - loss: 0.0231 - mean_squared_error: 0.0231 - val_loss: 0.0254 - val_mean_squared_error: 0.0254\n",
      "Epoch 177/200\n",
      "180/179 [==============================] - 13s - loss: 0.0232 - mean_squared_error: 0.0232 - val_loss: 0.0250 - val_mean_squared_error: 0.0250\n",
      "Epoch 178/200\n",
      "180/179 [==============================] - 13s - loss: 0.0233 - mean_squared_error: 0.0233 - val_loss: 0.0248 - val_mean_squared_error: 0.0248\n",
      "Epoch 179/200\n",
      "180/179 [==============================] - 13s - loss: 0.0232 - mean_squared_error: 0.0232 - val_loss: 0.0250 - val_mean_squared_error: 0.0250\n",
      "Epoch 180/200\n",
      "180/179 [==============================] - 13s - loss: 0.0232 - mean_squared_error: 0.0232 - val_loss: 0.0256 - val_mean_squared_error: 0.0256\n",
      "Epoch 181/200\n",
      "180/179 [==============================] - 13s - loss: 0.0232 - mean_squared_error: 0.0232 - val_loss: 0.0248 - val_mean_squared_error: 0.0248\n",
      "Epoch 182/200\n",
      "180/179 [==============================] - 13s - loss: 0.0232 - mean_squared_error: 0.0232 - val_loss: 0.0255 - val_mean_squared_error: 0.0255\n",
      "Epoch 183/200\n",
      "180/179 [==============================] - 13s - loss: 0.0233 - mean_squared_error: 0.0233 - val_loss: 0.0253 - val_mean_squared_error: 0.0253\n",
      "Epoch 184/200\n",
      "180/179 [==============================] - 13s - loss: 0.0232 - mean_squared_error: 0.0232 - val_loss: 0.0250 - val_mean_squared_error: 0.0250\n",
      "Epoch 185/200\n",
      "180/179 [==============================] - 13s - loss: 0.0232 - mean_squared_error: 0.0232 - val_loss: 0.0253 - val_mean_squared_error: 0.0253\n",
      "Epoch 186/200\n",
      "180/179 [==============================] - 13s - loss: 0.0231 - mean_squared_error: 0.0231 - val_loss: 0.0249 - val_mean_squared_error: 0.0249\n",
      "Epoch 187/200\n",
      "180/179 [==============================] - 13s - loss: 0.0232 - mean_squared_error: 0.0232 - val_loss: 0.0250 - val_mean_squared_error: 0.0250\n",
      "Epoch 188/200\n",
      "180/179 [==============================] - 13s - loss: 0.0232 - mean_squared_error: 0.0232 - val_loss: 0.0254 - val_mean_squared_error: 0.0254\n",
      "Epoch 189/200\n",
      "180/179 [==============================] - 13s - loss: 0.0232 - mean_squared_error: 0.0232 - val_loss: 0.0253 - val_mean_squared_error: 0.0253\n",
      "Epoch 190/200\n",
      "180/179 [==============================] - 13s - loss: 0.0231 - mean_squared_error: 0.0231 - val_loss: 0.0248 - val_mean_squared_error: 0.0248\n",
      "Epoch 191/200\n",
      "180/179 [==============================] - 13s - loss: 0.0233 - mean_squared_error: 0.0233 - val_loss: 0.0252 - val_mean_squared_error: 0.0252\n",
      "Epoch 192/200\n",
      "180/179 [==============================] - 13s - loss: 0.0231 - mean_squared_error: 0.0231 - val_loss: 0.0252 - val_mean_squared_error: 0.0252\n",
      "Epoch 193/200\n",
      "180/179 [==============================] - 13s - loss: 0.0232 - mean_squared_error: 0.0232 - val_loss: 0.0250 - val_mean_squared_error: 0.0250\n",
      "Epoch 194/200\n",
      "180/179 [==============================] - 13s - loss: 0.0232 - mean_squared_error: 0.0232 - val_loss: 0.0250 - val_mean_squared_error: 0.0250\n",
      "Epoch 195/200\n",
      "180/179 [==============================] - 13s - loss: 0.0232 - mean_squared_error: 0.0232 - val_loss: 0.0251 - val_mean_squared_error: 0.0251\n",
      "Epoch 196/200\n",
      "180/179 [==============================] - 13s - loss: 0.0232 - mean_squared_error: 0.0232 - val_loss: 0.0249 - val_mean_squared_error: 0.0249\n",
      "Epoch 197/200\n",
      "180/179 [==============================] - 13s - loss: 0.0232 - mean_squared_error: 0.0232 - val_loss: 0.0249 - val_mean_squared_error: 0.0249\n",
      "Epoch 198/200\n",
      "180/179 [==============================] - 13s - loss: 0.0232 - mean_squared_error: 0.0232 - val_loss: 0.0250 - val_mean_squared_error: 0.0250\n",
      "Epoch 199/200\n",
      "180/179 [==============================] - 13s - loss: 0.0232 - mean_squared_error: 0.0232 - val_loss: 0.0248 - val_mean_squared_error: 0.0248\n",
      "Epoch 200/200\n",
      "180/179 [==============================] - 13s - loss: 0.0231 - mean_squared_error: 0.0231 - val_loss: 0.0249 - val_mean_squared_error: 0.0249\n"
     ]
    }
   ],
   "source": [
    "from keras.callbacks import ModelCheckpoint, Callback\n",
    "checkpoint_callback = ModelCheckpoint('model{epoch:02d}.h5')\n",
    "history = model.fit_generator(train_generator, steps_per_epoch=train_data_size/batch_size, \\\n",
    "                   validation_data=validation_generator, validation_steps=validation_data_size/batch_size, \\\n",
    "                   epochs=epochs, max_q_size=1, callbacks=[checkpoint_callback], initial_epoch=120)"
   ]
  },
  {
   "cell_type": "markdown",
   "metadata": {},
   "source": [
    "### Evaluate"
   ]
  },
  {
   "cell_type": "code",
   "execution_count": 145,
   "metadata": {
    "collapsed": true
   },
   "outputs": [],
   "source": [
    "metrics = model.evaluate_generator(test_generator, steps=test_data_size/batch_size)"
   ]
  },
  {
   "cell_type": "code",
   "execution_count": 146,
   "metadata": {},
   "outputs": [
    {
     "name": "stdout",
     "output_type": "stream",
     "text": [
      "('loss', 0.023760044500231742)\n",
      "('mean_squared_error', 0.02109863519668579)\n"
     ]
    }
   ],
   "source": [
    "for i in zip(model.metrics_names, metrics):\n",
    "    print(i)"
   ]
  },
  {
   "cell_type": "code",
   "execution_count": 129,
   "metadata": {},
   "outputs": [
    {
     "name": "stdout",
     "output_type": "stream",
     "text": [
      "('loss', 0.015913592446595431)\n",
      "('mean_squared_error', 0.015913489945232867)\n"
     ]
    }
   ],
   "source": [
    "for i in zip(model.metrics_names, metrics):\n",
    "    print(i)"
   ]
  },
  {
   "cell_type": "code",
   "execution_count": 157,
   "metadata": {
    "collapsed": true
   },
   "outputs": [],
   "source": [
    "model.save(\"model_25.h5\")"
   ]
  },
  {
   "cell_type": "code",
   "execution_count": null,
   "metadata": {
    "collapsed": true
   },
   "outputs": [],
   "source": [
    "from keras.models import load_model\n",
    "\n",
    "model = load_model(\"model_6.h5\")"
   ]
  },
  {
   "cell_type": "code",
   "execution_count": null,
   "metadata": {
    "collapsed": true
   },
   "outputs": [],
   "source": []
  }
 ],
 "metadata": {
  "kernelspec": {
   "display_name": "Python 3",
   "language": "python",
   "name": "python3"
  },
  "language_info": {
   "codemirror_mode": {
    "name": "ipython",
    "version": 3
   },
   "file_extension": ".py",
   "mimetype": "text/x-python",
   "name": "python",
   "nbconvert_exporter": "python",
   "pygments_lexer": "ipython3",
   "version": "3.5.2"
  },
  "widgets": {
   "state": {},
   "version": "1.1.2"
  }
 },
 "nbformat": 4,
 "nbformat_minor": 2
}
