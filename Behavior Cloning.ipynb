{
 "cells": [
  {
   "cell_type": "markdown",
   "metadata": {},
   "source": [
    "# Behavior Cloning"
   ]
  },
  {
   "cell_type": "markdown",
   "metadata": {},
   "source": [
    "### Data Augmentation and Formatting\n",
    "Flip images and measurements"
   ]
  },
  {
   "cell_type": "code",
   "execution_count": 11,
   "metadata": {
    "collapsed": true
   },
   "outputs": [],
   "source": [
    "import csv\n",
    "import cv2\n",
    "import numpy as np"
   ]
  },
  {
   "cell_type": "code",
   "execution_count": 12,
   "metadata": {
    "collapsed": true
   },
   "outputs": [],
   "source": [
    "lines = []\n",
    "with open(\"./data/driving_log.csv\") as f:\n",
    "    reader = csv.reader(f)\n",
    "    for line in reader:\n",
    "        filename = line[0].split('/')\n",
    "        try:\n",
    "            filename = '/'.join(['data',filename[-2],filename[-1]])\n",
    "        except:\n",
    "            print(filename, \"::\", line)\n",
    "        lines.append([filename, *line[-4:]])\n",
    "\n",
    "fw = open(\"./data/driving_log_updated.csv\", \"w\")\n",
    "for line in lines:\n",
    "    fw.write(\"{},{},{},{},{}\\n\".format(*line))\n",
    "    if abs(float(line[1])) > 0.3:\n",
    "        new_filename = line[0][:-4]+\"_flipped.jpg\"\n",
    "        img = cv2.imread(line[0], cv2.IMREAD_COLOR)\n",
    "        img = np.fliplr(img)\n",
    "        fw.write(\"{},{},{},{},{}\\n\".format(new_filename, -1.0 * float(line[1]), line[2], line[3], line[4]))\n",
    "        cv2.imwrite(new_filename, img)\n",
    "    \n",
    "fw.close()"
   ]
  },
  {
   "cell_type": "markdown",
   "metadata": {},
   "source": [
    "Crop Images"
   ]
  },
  {
   "cell_type": "code",
   "execution_count": null,
   "metadata": {
    "collapsed": true
   },
   "outputs": [],
   "source": [
    "# 55 off top\n",
    "# 30 off bottom\n",
    "#fw = open(\"./data/driving_log_updated_cropped.csv\", \"w\")\n",
    "#with open(\"./data/driving_log_updated.csv\") as f:\n",
    "#    reader = csv.reader(f)\n",
    "#    for line in reader:\n",
    "#        filename = line[0]\n",
    "#        img = cv2.imread(filename)\n",
    "#        img = img[55:-30, :]\n",
    "#        f_split = filename.split(\"/\")\n",
    "#        f_split[-2] = \"CROPPED_IMG\"\n",
    "#        new_filename = '/'.join(f_split)\n",
    "#        fw.write(\"{},{},{},{},{}\\n\".format(new_filename, *line[1:]))\n",
    "#        cv2.imwrite(new_filename, img)\n",
    "#    \n",
    "#fw.close()"
   ]
  },
  {
   "cell_type": "markdown",
   "metadata": {},
   "source": [
    "### Define Datasets"
   ]
  },
  {
   "cell_type": "code",
   "execution_count": 13,
   "metadata": {
    "collapsed": true
   },
   "outputs": [],
   "source": [
    "import random\n",
    "import csv\n",
    "\n",
    "TEST_SPLIT_RATIO = 0.2\n",
    "VALIDATION_SPLIT_RATIO = 0.2\n",
    "\n",
    "train_data = []\n",
    "test_data = []\n",
    "validation_data = []\n",
    "\n",
    "with open(\"./data/driving_log_updated.csv\") as f:\n",
    "    reader = csv.reader(f)\n",
    "    for line in reader:\n",
    "        rand = random.random()\n",
    "        if rand < TEST_SPLIT_RATIO:\n",
    "            test_data.append(line)\n",
    "        elif rand < VALIDATION_SPLIT_RATIO+TEST_SPLIT_RATIO:\n",
    "            validation_data.append(line)\n",
    "        else:\n",
    "            train_data.append(line)\n"
   ]
  },
  {
   "cell_type": "code",
   "execution_count": 14,
   "metadata": {},
   "outputs": [
    {
     "name": "stdout",
     "output_type": "stream",
     "text": [
      "13758 0.5983299991302079\n",
      "4635 0.20157432373662695\n",
      "4601 0.20009567713316517\n"
     ]
    }
   ],
   "source": [
    "total = 1.0* len(train_data)+len(test_data)+len(validation_data)\n",
    "print(len(train_data), len(train_data)/total )\n",
    "print(len(test_data), len(test_data)/total)\n",
    "print(len(validation_data), len(validation_data)/total)\n"
   ]
  },
  {
   "cell_type": "code",
   "execution_count": 35,
   "metadata": {
    "collapsed": true
   },
   "outputs": [],
   "source": [
    "import sklearn\n",
    "import random\n",
    "\n",
    "def generator(samples, batch_size=32):\n",
    "    num_samples = len(samples)\n",
    "    samples = sklearn.utils.shuffle(samples)\n",
    "    offset = 0\n",
    "    while 1: # Loop forever so the generator never terminates\n",
    "                    \n",
    "        if offset >= len(samples):\n",
    "            offset = 0\n",
    "        vals = np.zeros((batch_size, 1))\n",
    "        imgs = np.zeros((batch_size, 160, 320, 3))\n",
    "        index = 0\n",
    "        while index < batch_size:\n",
    "            batch_sample = samples[offset]\n",
    "            offset += 1\n",
    "            if offset >= len(samples):\n",
    "                offset = 0\n",
    "            if abs(float(batch_sample[1])) < .1 and random.random() < .5:\n",
    "                continue\n",
    "            filename = batch_sample[0]\n",
    "            center_image = cv2.imread(filename)\n",
    "            imgs[index] = center_image\n",
    "            try:\n",
    "                float(batch_sample[1])\n",
    "            except:\n",
    "                print(batch_sample[1])\n",
    "            vals[index][0] = float(batch_sample[1])\n",
    "            index += 1\n",
    "\n",
    "        # trim image to only see section with road\n",
    "        X_train = imgs\n",
    "        y_train = vals\n",
    "            \n",
    "        yield X_train, y_train\n"
   ]
  },
  {
   "cell_type": "markdown",
   "metadata": {},
   "source": [
    "### Define Hyperparameters"
   ]
  },
  {
   "cell_type": "code",
   "execution_count": 36,
   "metadata": {
    "collapsed": true
   },
   "outputs": [],
   "source": [
    "epochs = 80\n",
    "batch_size = 64\n",
    "\n",
    "train_data_size = len(train_data)\n",
    "test_data_size = len(test_data)\n",
    "validation_data_size = len(validation_data)"
   ]
  },
  {
   "cell_type": "markdown",
   "metadata": {},
   "source": [
    "### Define Model and Train"
   ]
  },
  {
   "cell_type": "code",
   "execution_count": 37,
   "metadata": {
    "collapsed": true
   },
   "outputs": [],
   "source": [
    "train_generator = generator(train_data, batch_size=batch_size)\n",
    "validation_generator = generator(validation_data, batch_size=batch_size)\n",
    "test_generator = generator(test_data, batch_size=batch_size)"
   ]
  },
  {
   "cell_type": "code",
   "execution_count": 39,
   "metadata": {
    "collapsed": true
   },
   "outputs": [],
   "source": [
    "from keras.models import Sequential\n",
    "from keras.layers import Dense, Activation, Lambda, Flatten, Dropout\n",
    "from keras.layers.convolutional import Conv2D, Cropping2D\n",
    "from keras.layers.advanced_activations import ELU\n",
    "import keras.regularizers as regularizers\n",
    "\n",
    "model = Sequential()\n",
    "model.add(Cropping2D(cropping=((55,30),(0,0)), input_shape=(160, 320, 3)))\n",
    "model.add(Lambda(lambda x: x/127.5 - 1.0, input_shape=(75, 320, 3)))\n",
    "model.add(Conv2D(16, (5,5), strides=(4, 4)))\n",
    "model.add(ELU())\n",
    "model.add(Conv2D(32, (5,5), strides=(2, 2)))\n",
    "model.add(ELU())\n",
    "model.add(Conv2D(64, (3,3), strides=(2, 2)))\n",
    "model.add(ELU())\n",
    "model.add(Conv2D(64, (3,3), strides=(2, 2)))\n",
    "model.add(ELU())\n",
    "model.add(Flatten())\n",
    "model.add(Dropout(.2))\n",
    "model.add(Dense(1024,kernel_regularizer=regularizers.l2(0.01)))\n",
    "model.add(ELU())\n",
    "model.add(Dense(512,kernel_regularizer=regularizers.l2(0.01)))\n",
    "model.add(Dropout(.5))\n",
    "model.add(ELU())\n",
    "model.add(Dense(64,kernel_regularizer=regularizers.l2(0.01)))\n",
    "model.add(ELU())\n",
    "model.add(Dense(64,kernel_regularizer=regularizers.l2(0.01)))\n",
    "model.add(ELU())\n",
    "model.add(Dense(1))\n"
   ]
  },
  {
   "cell_type": "code",
   "execution_count": 21,
   "metadata": {},
   "outputs": [],
   "source": [
    "from keras.models import Sequential\n",
    "from keras.layers import Dense, Activation, Lambda, Flatten, Dropout\n",
    "from keras.layers.convolutional import Conv2D, Cropping2D\n",
    "from keras.layers.advanced_activations import ELU\n",
    "\n",
    "model = Sequential()\n",
    "model.add(Cropping2D(cropping=((60,30),(0,0)), input_shape=(160, 320, 3)))\n",
    "model.add(Lambda(lambda x: x/127.5 - 1.0, input_shape=(75, 320, 3)))\n",
    "model.add(Conv2D(16, (8, 8), strides=(4, 4), padding=\"same\"))\n",
    "model.add(ELU())\n",
    "model.add(Conv2D(32, (5, 5), strides=(2, 2), padding=\"same\"))\n",
    "model.add(ELU())\n",
    "model.add(Conv2D(64, (5, 5), strides=(2, 2), padding=\"same\"))\n",
    "model.add(Flatten())\n",
    "model.add(Dropout(.2))\n",
    "model.add(ELU())\n",
    "model.add(Dense(512))\n",
    "model.add(Dropout(.5))\n",
    "model.add(ELU())\n",
    "model.add(Dense(1))"
   ]
  },
  {
   "cell_type": "code",
   "execution_count": 40,
   "metadata": {
    "collapsed": true
   },
   "outputs": [],
   "source": [
    "from keras.optimizers import Adam\n",
    "\n",
    "model.compile(optimizer=Adam(), loss='mse', metrics=[ 'mse'])"
   ]
  },
  {
   "cell_type": "code",
   "execution_count": 41,
   "metadata": {},
   "outputs": [
    {
     "name": "stdout",
     "output_type": "stream",
     "text": [
      "Epoch 1/80\n",
      "215/214 [==============================] - 40s - loss: 1.9364 - mean_squared_error: 0.0392 - val_loss: 0.0667 - val_mean_squared_error: 0.0281\n",
      "Epoch 2/80\n",
      "215/214 [==============================] - 40s - loss: 0.0439 - mean_squared_error: 0.0289 - val_loss: 0.0347 - val_mean_squared_error: 0.0265\n",
      "Epoch 3/80\n",
      "215/214 [==============================] - 40s - loss: 0.0349 - mean_squared_error: 0.0276 - val_loss: 0.0310 - val_mean_squared_error: 0.0242\n",
      "Epoch 4/80\n",
      "215/214 [==============================] - 40s - loss: 0.0335 - mean_squared_error: 0.0262 - val_loss: 0.0300 - val_mean_squared_error: 0.0227\n",
      "Epoch 5/80\n",
      "215/214 [==============================] - 40s - loss: 0.0337 - mean_squared_error: 0.0262 - val_loss: 0.0340 - val_mean_squared_error: 0.0247\n",
      "Epoch 6/80\n",
      "215/214 [==============================] - 40s - loss: 0.0330 - mean_squared_error: 0.0255 - val_loss: 0.0272 - val_mean_squared_error: 0.0212\n",
      "Epoch 7/80\n",
      "215/214 [==============================] - 40s - loss: 0.0324 - mean_squared_error: 0.0251 - val_loss: 0.0297 - val_mean_squared_error: 0.0223\n",
      "Epoch 8/80\n",
      "215/214 [==============================] - 40s - loss: 0.0316 - mean_squared_error: 0.0242 - val_loss: 0.0313 - val_mean_squared_error: 0.0230\n",
      "Epoch 9/80\n",
      "215/214 [==============================] - 40s - loss: 0.0323 - mean_squared_error: 0.0246 - val_loss: 0.0422 - val_mean_squared_error: 0.0313\n",
      "Epoch 10/80\n",
      "215/214 [==============================] - 40s - loss: 0.0321 - mean_squared_error: 0.0238 - val_loss: 0.0294 - val_mean_squared_error: 0.0199\n",
      "Epoch 11/80\n",
      "215/214 [==============================] - 40s - loss: 0.0314 - mean_squared_error: 0.0233 - val_loss: 0.0263 - val_mean_squared_error: 0.0196\n",
      "Epoch 12/80\n",
      "215/214 [==============================] - 40s - loss: 0.0322 - mean_squared_error: 0.0233 - val_loss: 0.0345 - val_mean_squared_error: 0.0211\n",
      "Epoch 13/80\n",
      "215/214 [==============================] - 40s - loss: 0.0311 - mean_squared_error: 0.0219 - val_loss: 0.0454 - val_mean_squared_error: 0.0332\n",
      "Epoch 14/80\n",
      "215/214 [==============================] - 40s - loss: 0.0315 - mean_squared_error: 0.0220 - val_loss: 0.0281 - val_mean_squared_error: 0.0189\n",
      "Epoch 15/80\n",
      "215/214 [==============================] - 40s - loss: 0.0296 - mean_squared_error: 0.0204 - val_loss: 0.0272 - val_mean_squared_error: 0.0185\n",
      "Epoch 16/80\n",
      "215/214 [==============================] - 40s - loss: 0.0300 - mean_squared_error: 0.0208 - val_loss: 0.0276 - val_mean_squared_error: 0.0182\n",
      "Epoch 17/80\n",
      "215/214 [==============================] - 40s - loss: 0.0297 - mean_squared_error: 0.0199 - val_loss: 0.0257 - val_mean_squared_error: 0.0170\n",
      "Epoch 18/80\n",
      "215/214 [==============================] - 40s - loss: 0.0296 - mean_squared_error: 0.0194 - val_loss: 0.0265 - val_mean_squared_error: 0.0182\n",
      "Epoch 19/80\n",
      "215/214 [==============================] - 40s - loss: 0.0281 - mean_squared_error: 0.0185 - val_loss: 0.0249 - val_mean_squared_error: 0.0169\n",
      "Epoch 20/80\n",
      "215/214 [==============================] - 40s - loss: 0.0280 - mean_squared_error: 0.0182 - val_loss: 0.0261 - val_mean_squared_error: 0.0185\n",
      "Epoch 21/80\n",
      "215/214 [==============================] - 40s - loss: 0.0279 - mean_squared_error: 0.0177 - val_loss: 0.0271 - val_mean_squared_error: 0.0170\n",
      "Epoch 22/80\n",
      "215/214 [==============================] - 39s - loss: 0.0277 - mean_squared_error: 0.0169 - val_loss: 0.0267 - val_mean_squared_error: 0.0176\n",
      "Epoch 23/80\n",
      "215/214 [==============================] - 39s - loss: 0.0269 - mean_squared_error: 0.0168 - val_loss: 0.0277 - val_mean_squared_error: 0.0190\n",
      "Epoch 24/80\n",
      "215/214 [==============================] - 39s - loss: 0.0264 - mean_squared_error: 0.0161 - val_loss: 0.0259 - val_mean_squared_error: 0.0163\n",
      "Epoch 25/80\n",
      "215/214 [==============================] - 40s - loss: 0.0255 - mean_squared_error: 0.0154 - val_loss: 0.0287 - val_mean_squared_error: 0.0171\n",
      "Epoch 26/80\n",
      "215/214 [==============================] - 40s - loss: 0.0257 - mean_squared_error: 0.0149 - val_loss: 0.0247 - val_mean_squared_error: 0.0163\n",
      "Epoch 27/80\n",
      "215/214 [==============================] - 40s - loss: 0.0260 - mean_squared_error: 0.0144 - val_loss: 0.0308 - val_mean_squared_error: 0.0197\n",
      "Epoch 28/80\n",
      "215/214 [==============================] - 40s - loss: 0.0251 - mean_squared_error: 0.0136 - val_loss: 0.0272 - val_mean_squared_error: 0.0183\n",
      "Epoch 29/80\n",
      "215/214 [==============================] - 40s - loss: 0.0224 - mean_squared_error: 0.0128 - val_loss: 0.0269 - val_mean_squared_error: 0.0176\n",
      "Epoch 30/80\n",
      "215/214 [==============================] - 40s - loss: 0.0227 - mean_squared_error: 0.0126 - val_loss: 0.0297 - val_mean_squared_error: 0.0179\n",
      "Epoch 31/80\n",
      "215/214 [==============================] - 40s - loss: 0.0227 - mean_squared_error: 0.0120 - val_loss: 0.0361 - val_mean_squared_error: 0.0223\n",
      "Epoch 32/80\n",
      "215/214 [==============================] - 40s - loss: 0.0215 - mean_squared_error: 0.0114 - val_loss: 0.0272 - val_mean_squared_error: 0.0177\n",
      "Epoch 33/80\n",
      "215/214 [==============================] - 40s - loss: 18.9790 - mean_squared_error: 14.6198 - val_loss: 5.4378 - val_mean_squared_error: 0.0513\n",
      "Epoch 34/80\n",
      "215/214 [==============================] - 40s - loss: 4.3357 - mean_squared_error: 0.0534 - val_loss: 3.5868 - val_mean_squared_error: 0.0929\n",
      "Epoch 35/80\n",
      "215/214 [==============================] - 40s - loss: 3.0825 - mean_squared_error: 0.0549 - val_loss: 2.6662 - val_mean_squared_error: 0.0485\n",
      "Epoch 36/80\n",
      "215/214 [==============================] - 40s - loss: 2.3746 - mean_squared_error: 0.0498 - val_loss: 2.1164 - val_mean_squared_error: 0.0492\n",
      "Epoch 37/80\n",
      "215/214 [==============================] - 40s - loss: 1.9118 - mean_squared_error: 0.0438 - val_loss: 1.7548 - val_mean_squared_error: 0.0661\n",
      "Epoch 38/80\n",
      "215/214 [==============================] - 40s - loss: 1.5867 - mean_squared_error: 0.0428 - val_loss: 1.4463 - val_mean_squared_error: 0.0359\n",
      "Epoch 39/80\n",
      "215/214 [==============================] - 40s - loss: 1.3406 - mean_squared_error: 0.0403 - val_loss: 1.2340 - val_mean_squared_error: 0.0358\n",
      "Epoch 40/80\n",
      "215/214 [==============================] - 40s - loss: 1.1509 - mean_squared_error: 0.0388 - val_loss: 1.0822 - val_mean_squared_error: 0.0510\n",
      "Epoch 41/80\n",
      "215/214 [==============================] - 40s - loss: 0.9991 - mean_squared_error: 0.0376 - val_loss: 0.9272 - val_mean_squared_error: 0.0317\n",
      "Epoch 42/80\n",
      "215/214 [==============================] - 40s - loss: 0.8773 - mean_squared_error: 0.0379 - val_loss: 0.8129 - val_mean_squared_error: 0.0300\n",
      "Epoch 43/80\n",
      "215/214 [==============================] - 40s - loss: 0.7703 - mean_squared_error: 0.0363 - val_loss: 0.7164 - val_mean_squared_error: 0.0294\n",
      "Epoch 44/80\n",
      "215/214 [==============================] - 40s - loss: 0.6820 - mean_squared_error: 0.0353 - val_loss: 0.6356 - val_mean_squared_error: 0.0292\n",
      "Epoch 45/80\n",
      "215/214 [==============================] - 40s - loss: 0.6585 - mean_squared_error: 0.0429 - val_loss: 0.6013 - val_mean_squared_error: 0.0308\n",
      "Epoch 46/80\n",
      "215/214 [==============================] - 40s - loss: 0.5619 - mean_squared_error: 0.0355 - val_loss: 0.5168 - val_mean_squared_error: 0.0287\n",
      "Epoch 47/80\n",
      "215/214 [==============================] - 40s - loss: 0.4930 - mean_squared_error: 0.0361 - val_loss: 0.4556 - val_mean_squared_error: 0.0285\n",
      "Epoch 48/80\n",
      "215/214 [==============================] - 40s - loss: 0.4351 - mean_squared_error: 0.0350 - val_loss: 0.4096 - val_mean_squared_error: 0.0354\n",
      "Epoch 49/80\n",
      "215/214 [==============================] - 40s - loss: 0.3853 - mean_squared_error: 0.0345 - val_loss: 0.3554 - val_mean_squared_error: 0.0273\n",
      "Epoch 50/80\n",
      "215/214 [==============================] - 40s - loss: 0.3417 - mean_squared_error: 0.0339 - val_loss: 0.3168 - val_mean_squared_error: 0.0288\n",
      "Epoch 51/80\n",
      "215/214 [==============================] - 40s - loss: 0.3034 - mean_squared_error: 0.0334 - val_loss: 0.2786 - val_mean_squared_error: 0.0263\n",
      "Epoch 52/80\n",
      "215/214 [==============================] - 40s - loss: 0.2686 - mean_squared_error: 0.0321 - val_loss: 0.2473 - val_mean_squared_error: 0.0265\n",
      "Epoch 53/80\n"
     ]
    },
    {
     "name": "stdout",
     "output_type": "stream",
     "text": [
      "215/214 [==============================] - 40s - loss: 0.2377 - mean_squared_error: 0.0309 - val_loss: 0.2162 - val_mean_squared_error: 0.0230\n",
      "Epoch 54/80\n",
      "215/214 [==============================] - 40s - loss: 0.2112 - mean_squared_error: 0.0302 - val_loss: 0.1977 - val_mean_squared_error: 0.0287\n",
      "Epoch 55/80\n",
      "215/214 [==============================] - 40s - loss: 0.1880 - mean_squared_error: 0.0296 - val_loss: 0.1730 - val_mean_squared_error: 0.0246\n",
      "Epoch 56/80\n",
      "215/214 [==============================] - 39s - loss: 0.1704 - mean_squared_error: 0.0311 - val_loss: 0.1519 - val_mean_squared_error: 0.0218\n",
      "Epoch 57/80\n",
      "215/214 [==============================] - 40s - loss: 0.1509 - mean_squared_error: 0.0290 - val_loss: 0.1495 - val_mean_squared_error: 0.0354\n",
      "Epoch 58/80\n",
      "215/214 [==============================] - 40s - loss: 0.1367 - mean_squared_error: 0.0294 - val_loss: 0.1230 - val_mean_squared_error: 0.0229\n",
      "Epoch 59/80\n",
      "215/214 [==============================] - 40s - loss: 0.1221 - mean_squared_error: 0.0280 - val_loss: 0.1110 - val_mean_squared_error: 0.0226\n",
      "Epoch 60/80\n",
      "215/214 [==============================] - 40s - loss: 0.1123 - mean_squared_error: 0.0288 - val_loss: 0.1030 - val_mean_squared_error: 0.0230\n",
      "Epoch 61/80\n",
      "215/214 [==============================] - 40s - loss: 0.1012 - mean_squared_error: 0.0275 - val_loss: 0.0948 - val_mean_squared_error: 0.0249\n",
      "Epoch 62/80\n",
      "215/214 [==============================] - 40s - loss: 0.0940 - mean_squared_error: 0.0282 - val_loss: 0.0855 - val_mean_squared_error: 0.0237\n",
      "Epoch 63/80\n",
      "215/214 [==============================] - 40s - loss: 0.0866 - mean_squared_error: 0.0278 - val_loss: 0.0770 - val_mean_squared_error: 0.0212\n",
      "Epoch 64/80\n",
      "215/214 [==============================] - 40s - loss: 0.0812 - mean_squared_error: 0.0281 - val_loss: 0.0717 - val_mean_squared_error: 0.0222\n",
      "Epoch 65/80\n",
      "215/214 [==============================] - 39s - loss: 0.0750 - mean_squared_error: 0.0274 - val_loss: 0.0679 - val_mean_squared_error: 0.0227\n",
      "Epoch 66/80\n",
      "215/214 [==============================] - 39s - loss: 0.0693 - mean_squared_error: 0.0266 - val_loss: 0.0634 - val_mean_squared_error: 0.0232\n",
      "Epoch 67/80\n",
      "215/214 [==============================] - 40s - loss: 0.0693 - mean_squared_error: 0.0279 - val_loss: 0.0557 - val_mean_squared_error: 0.0197\n",
      "Epoch 68/80\n",
      "215/214 [==============================] - 40s - loss: 0.0610 - mean_squared_error: 0.0258 - val_loss: 0.0584 - val_mean_squared_error: 0.0243\n",
      "Epoch 69/80\n",
      "215/214 [==============================] - 40s - loss: 0.0586 - mean_squared_error: 0.0264 - val_loss: 0.0498 - val_mean_squared_error: 0.0200\n",
      "Epoch 70/80\n",
      "215/214 [==============================] - 40s - loss: 0.0549 - mean_squared_error: 0.0256 - val_loss: 0.0543 - val_mean_squared_error: 0.0253\n",
      "Epoch 71/80\n",
      "215/214 [==============================] - 40s - loss: 0.0527 - mean_squared_error: 0.0255 - val_loss: 0.0440 - val_mean_squared_error: 0.0192\n",
      "Epoch 72/80\n",
      "215/214 [==============================] - 40s - loss: 0.0499 - mean_squared_error: 0.0249 - val_loss: 0.0626 - val_mean_squared_error: 0.0295\n",
      "Epoch 73/80\n",
      "215/214 [==============================] - 40s - loss: 0.0486 - mean_squared_error: 0.0247 - val_loss: 0.0414 - val_mean_squared_error: 0.0199\n",
      "Epoch 74/80\n",
      "215/214 [==============================] - 40s - loss: 0.0461 - mean_squared_error: 0.0243 - val_loss: 0.0394 - val_mean_squared_error: 0.0192\n",
      "Epoch 75/80\n",
      "215/214 [==============================] - 39s - loss: 0.0426 - mean_squared_error: 0.0234 - val_loss: 0.0564 - val_mean_squared_error: 0.0338\n",
      "Epoch 76/80\n",
      "215/214 [==============================] - 39s - loss: 0.0457 - mean_squared_error: 0.0241 - val_loss: 0.0359 - val_mean_squared_error: 0.0191\n",
      "Epoch 77/80\n",
      "215/214 [==============================] - 40s - loss: 0.0386 - mean_squared_error: 0.0217 - val_loss: 0.0389 - val_mean_squared_error: 0.0226\n",
      "Epoch 78/80\n",
      "215/214 [==============================] - 40s - loss: 0.0374 - mean_squared_error: 0.0213 - val_loss: 0.0338 - val_mean_squared_error: 0.0185\n",
      "Epoch 79/80\n",
      "215/214 [==============================] - 40s - loss: 0.0343 - mean_squared_error: 0.0197 - val_loss: 0.0357 - val_mean_squared_error: 0.0219\n",
      "Epoch 80/80\n",
      "215/214 [==============================] - 40s - loss: 0.0322 - mean_squared_error: 0.0192 - val_loss: 0.0292 - val_mean_squared_error: 0.0178\n"
     ]
    }
   ],
   "source": [
    "from keras.callbacks import ModelCheckpoint, Callback\n",
    "checkpoint_callback = ModelCheckpoint('model{epoch:02d}.h5')\n",
    "history = model.fit_generator(train_generator, steps_per_epoch=train_data_size/batch_size, \\\n",
    "                   validation_data=validation_generator, validation_steps=validation_data_size/batch_size, \\\n",
    "                   epochs=epochs, max_q_size=1, callbacks=[checkpoint_callback])"
   ]
  },
  {
   "cell_type": "markdown",
   "metadata": {},
   "source": [
    "### Evaluate"
   ]
  },
  {
   "cell_type": "code",
   "execution_count": 42,
   "metadata": {
    "collapsed": true
   },
   "outputs": [],
   "source": [
    "metrics = model.evaluate_generator(test_generator, steps=test_data_size/batch_size)"
   ]
  },
  {
   "cell_type": "code",
   "execution_count": 28,
   "metadata": {},
   "outputs": [
    {
     "name": "stdout",
     "output_type": "stream",
     "text": [
      "('loss', 0.026621897577320877)\n",
      "('mean_squared_error', 0.026621897577320877)\n"
     ]
    }
   ],
   "source": [
    "for i in zip(model.metrics_names, metrics):\n",
    "    print(i)"
   ]
  },
  {
   "cell_type": "code",
   "execution_count": 43,
   "metadata": {},
   "outputs": [
    {
     "name": "stdout",
     "output_type": "stream",
     "text": [
      "('loss', 0.02999234924169436)\n",
      "('mean_squared_error', 0.018535823688829597)\n"
     ]
    }
   ],
   "source": [
    "for i in zip(model.metrics_names, metrics):\n",
    "    print(i)"
   ]
  },
  {
   "cell_type": "code",
   "execution_count": 44,
   "metadata": {
    "collapsed": true
   },
   "outputs": [],
   "source": [
    "model.save(\"model_3.h5\")"
   ]
  },
  {
   "cell_type": "code",
   "execution_count": null,
   "metadata": {
    "collapsed": true
   },
   "outputs": [],
   "source": [
    "from keras.models import load_model\n",
    "\n",
    "model = load_model(\"model.h5\")"
   ]
  },
  {
   "cell_type": "code",
   "execution_count": null,
   "metadata": {
    "collapsed": true
   },
   "outputs": [],
   "source": []
  }
 ],
 "metadata": {
  "kernelspec": {
   "display_name": "Python 3",
   "language": "python",
   "name": "python3"
  },
  "language_info": {
   "codemirror_mode": {
    "name": "ipython",
    "version": 3
   },
   "file_extension": ".py",
   "mimetype": "text/x-python",
   "name": "python",
   "nbconvert_exporter": "python",
   "pygments_lexer": "ipython3",
   "version": "3.5.2"
  },
  "widgets": {
   "state": {},
   "version": "1.1.2"
  }
 },
 "nbformat": 4,
 "nbformat_minor": 2
}
