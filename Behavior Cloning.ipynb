{
 "cells": [
  {
   "cell_type": "markdown",
   "metadata": {},
   "source": [
    "# Behavior Cloning"
   ]
  },
  {
   "cell_type": "markdown",
   "metadata": {},
   "source": [
    "### Data Augmentation and Formatting\n",
    "Flip images and measurements"
   ]
  },
  {
   "cell_type": "code",
   "execution_count": 54,
   "metadata": {
    "collapsed": true
   },
   "outputs": [],
   "source": [
    "import csv\n",
    "import cv2\n",
    "import numpy as np"
   ]
  },
  {
   "cell_type": "code",
   "execution_count": 56,
   "metadata": {},
   "outputs": [],
   "source": [
    "lines = []\n",
    "with open(\"./data/driving_log.csv\") as f:\n",
    "    reader = csv.reader(f)\n",
    "    for line in reader:\n",
    "        filename = line[0].split('/')\n",
    "        try:\n",
    "            filename = '/'.join(['data',filename[-2],filename[-1]])\n",
    "        except:\n",
    "            print(filename, \"::\", line)\n",
    "        lines.append([filename, *line[-4:]])\n",
    "\n",
    "fw = open(\"./data/driving_log_updated.csv\", \"w\")\n",
    "for line in lines:\n",
    "    fw.write(\"{},{},{},{},{}\\n\".format(*line))\n",
    "    if abs(float(line[1])) > 0.3:\n",
    "        new_filename = line[0][:-4]+\"_flipped.jpg\"\n",
    "        img = cv2.imread(line[0], cv2.IMREAD_COLOR)\n",
    "        img = np.fliplr(img)\n",
    "        fw.write(\"{},{},{},{},{}\\n\".format(new_filename, -1.0 * float(line[1]), line[2], line[3], line[4]))\n",
    "        cv2.imwrite(new_filename, img)\n",
    "    \n",
    "fw.close()"
   ]
  },
  {
   "cell_type": "markdown",
   "metadata": {},
   "source": [
    "Crop Images"
   ]
  },
  {
   "cell_type": "code",
   "execution_count": 3,
   "metadata": {
    "collapsed": true
   },
   "outputs": [],
   "source": [
    "# 55 off top\n",
    "# 30 off bottom\n",
    "#fw = open(\"./data/driving_log_updated_cropped.csv\", \"w\")\n",
    "#with open(\"./data/driving_log_updated.csv\") as f:\n",
    "#    reader = csv.reader(f)\n",
    "#    for line in reader:\n",
    "#        filename = line[0]\n",
    "#        img = cv2.imread(filename)\n",
    "#        img = img[55:-30, :]\n",
    "#        f_split = filename.split(\"/\")\n",
    "#        f_split[-2] = \"CROPPED_IMG\"\n",
    "#        new_filename = '/'.join(f_split)\n",
    "#        fw.write(\"{},{},{},{},{}\\n\".format(new_filename, *line[1:]))\n",
    "#        cv2.imwrite(new_filename, img)\n",
    "#    \n",
    "#fw.close()"
   ]
  },
  {
   "cell_type": "markdown",
   "metadata": {},
   "source": [
    "### Define Datasets"
   ]
  },
  {
   "cell_type": "code",
   "execution_count": 57,
   "metadata": {
    "collapsed": true
   },
   "outputs": [],
   "source": [
    "import random\n",
    "import csv\n",
    "\n",
    "TEST_SPLIT_RATIO = 0.2\n",
    "VALIDATION_SPLIT_RATIO = 0.1\n",
    "\n",
    "train_data = []\n",
    "test_data = []\n",
    "validation_data = []\n",
    "\n",
    "with open(\"./data/driving_log_updated.csv\") as f:\n",
    "    reader = csv.reader(f)\n",
    "    for line in reader:\n",
    "        rand = random.random()\n",
    "        if rand < TEST_SPLIT_RATIO:\n",
    "            test_data.append(line)\n",
    "        elif rand < VALIDATION_SPLIT_RATIO+TEST_SPLIT_RATIO:\n",
    "            validation_data.append(line)\n",
    "        else:\n",
    "            train_data.append(line)\n"
   ]
  },
  {
   "cell_type": "code",
   "execution_count": 58,
   "metadata": {},
   "outputs": [
    {
     "name": "stdout",
     "output_type": "stream",
     "text": [
      "11793 0.7041437783615954\n",
      "3341 0.19948650585144495\n",
      "1614 0.09636971578695963\n"
     ]
    }
   ],
   "source": [
    "total = 1.0* len(train_data)+len(test_data)+len(validation_data)\n",
    "print(len(train_data), len(train_data)/total )\n",
    "print(len(test_data), len(test_data)/total)\n",
    "print(len(validation_data), len(validation_data)/total)\n"
   ]
  },
  {
   "cell_type": "code",
   "execution_count": 60,
   "metadata": {
    "collapsed": true
   },
   "outputs": [],
   "source": [
    "import sklearn\n",
    "import random\n",
    "\n",
    "def generator(samples, batch_size=32):\n",
    "    num_samples = len(samples)\n",
    "    samples = sklearn.utils.shuffle(samples)\n",
    "    offset = 0\n",
    "    while 1: # Loop forever so the generator never terminates\n",
    "                    \n",
    "        if offset >= len(samples):\n",
    "            offset = 0\n",
    "        vals = np.zeros((batch_size, 1))\n",
    "        imgs = np.zeros((batch_size, 160, 320, 3))\n",
    "        index = 0\n",
    "        while index < batch_size:\n",
    "            batch_sample = samples[offset]\n",
    "            offset += 1\n",
    "            if offset >= len(samples):\n",
    "                offset = 0\n",
    "            if abs(float(batch_sample[1])) < .4 and random.random() < .5:\n",
    "                continue\n",
    "            filename = batch_sample[0]\n",
    "            center_image = cv2.imread(filename)\n",
    "            imgs[index] = center_image\n",
    "            try:\n",
    "                float(batch_sample[1])\n",
    "            except:\n",
    "                print(batch_sample[1])\n",
    "            vals[index][0] = float(batch_sample[1])\n",
    "            index += 1\n",
    "\n",
    "        # trim image to only see section with road\n",
    "        X_train = imgs\n",
    "        y_train = vals\n",
    "            \n",
    "        yield X_train, y_train\n"
   ]
  },
  {
   "cell_type": "markdown",
   "metadata": {},
   "source": [
    "### Define Hyperparameters"
   ]
  },
  {
   "cell_type": "code",
   "execution_count": 61,
   "metadata": {
    "collapsed": true
   },
   "outputs": [],
   "source": [
    "epochs = 50\n",
    "batch_size = 64\n",
    "\n",
    "train_data_size = len(train_data)\n",
    "test_data_size = len(test_data)\n",
    "validation_data_size = len(validation_data)"
   ]
  },
  {
   "cell_type": "markdown",
   "metadata": {},
   "source": [
    "### Define Model and Train"
   ]
  },
  {
   "cell_type": "code",
   "execution_count": 62,
   "metadata": {
    "collapsed": true
   },
   "outputs": [],
   "source": [
    "train_generator = generator(train_data, batch_size=batch_size)\n",
    "validation_generator = generator(validation_data, batch_size=batch_size)\n",
    "test_generator = generator(test_data, batch_size=batch_size)"
   ]
  },
  {
   "cell_type": "code",
   "execution_count": 63,
   "metadata": {},
   "outputs": [],
   "source": [
    "from keras.models import Sequential\n",
    "from keras.layers import Dense, Activation, Lambda, Flatten, Dropout\n",
    "from keras.layers.convolutional import Conv2D, Cropping2D\n",
    "from keras.layers.advanced_activations import ELU\n",
    "import keras.regularizers as regularizers\n",
    "\n",
    "model = Sequential()\n",
    "model.add(Cropping2D(cropping=((55,30),(0,0)), input_shape=(160, 320, 3)))\n",
    "model.add(Lambda(lambda x: x/127.5 - 1.0, input_shape=(75, 320, 3)))\n",
    "model.add(Conv2D(16, (5,5), strides=(4, 4)))\n",
    "model.add(ELU())\n",
    "model.add(Conv2D(32, (5,5), strides=(2, 2)))\n",
    "model.add(ELU())\n",
    "model.add(Conv2D(64, (3,3), strides=(2, 2)))\n",
    "model.add(ELU())\n",
    "model.add(Conv2D(64, (3,3), strides=(2, 2)))\n",
    "model.add(ELU())\n",
    "model.add(Flatten())\n",
    "model.add(Dropout(.2))\n",
    "model.add(Dense(1024,kernel_regularizer=regularizers.l2(0.01)))\n",
    "model.add(ELU())\n",
    "model.add(Dense(512,kernel_regularizer=regularizers.l2(0.01)))\n",
    "model.add(Dropout(.5))\n",
    "model.add(ELU())\n",
    "model.add(Dense(64,kernel_regularizer=regularizers.l2(0.01)))\n",
    "model.add(ELU())\n",
    "model.add(Dense(1))\n"
   ]
  },
  {
   "cell_type": "code",
   "execution_count": 10,
   "metadata": {
    "collapsed": true
   },
   "outputs": [],
   "source": [
    "from keras.models import Sequential\n",
    "from keras.layers import Dense, Activation, Lambda, Flatten, Dropout\n",
    "from keras.layers.convolutional import Conv2D, Cropping2D\n",
    "from keras.layers.advanced_activations import ELU\n",
    "from keras.optimizers import Adam\n",
    "\n",
    "model = Sequential()\n",
    "model.add(Cropping2D(cropping=((55,30),(0,0)), input_shape=(160, 320, 3)))\n",
    "model.add(Lambda(lambda x: x/127.5 - 1.0, input_shape=(75, 320, 3)))\n",
    "model.add(Conv2D(16, (8, 8), strides=(4, 4), padding=\"same\"))\n",
    "model.add(ELU())\n",
    "model.add(Conv2D(32, (5, 5), strides=(2, 2), padding=\"same\"))\n",
    "model.add(ELU())\n",
    "model.add(Conv2D(64, (5, 5), strides=(2, 2), padding=\"same\"))\n",
    "model.add(Flatten())\n",
    "model.add(Dropout(.2))\n",
    "model.add(ELU())\n",
    "model.add(Dense(512))\n",
    "model.add(Dropout(.5))\n",
    "model.add(ELU())\n",
    "model.add(Dense(1))"
   ]
  },
  {
   "cell_type": "code",
   "execution_count": 65,
   "metadata": {
    "collapsed": true
   },
   "outputs": [],
   "source": [
    "model.compile(optimizer=Adam(lr=0.0001), loss='mse', metrics=[ 'mse'])"
   ]
  },
  {
   "cell_type": "code",
   "execution_count": null,
   "metadata": {},
   "outputs": [
    {
     "name": "stdout",
     "output_type": "stream",
     "text": [
      "Epoch 1/50\n",
      "62/61 [==============================] - 13s - loss: 13.3380 - mean_squared_error: 0.0696 - val_loss: 11.7421 - val_mean_squared_error: 0.0445\n",
      "Epoch 2/50\n",
      "62/61 [==============================] - 12s - loss: 10.3799 - mean_squared_error: 0.0485 - val_loss: 9.0529 - val_mean_squared_error: 0.0413\n",
      "Epoch 3/50\n",
      "62/61 [==============================] - 12s - loss: 7.9482 - mean_squared_error: 0.0420 - val_loss: 6.8896 - val_mean_squared_error: 0.0407\n",
      "Epoch 4/50\n",
      "62/61 [==============================] - 12s - loss: 6.0139 - mean_squared_error: 0.0376 - val_loss: 5.1860 - val_mean_squared_error: 0.0395\n",
      "Epoch 5/50\n",
      "62/61 [==============================] - 12s - loss: 4.5066 - mean_squared_error: 0.0372 - val_loss: 3.8668 - val_mean_squared_error: 0.0383\n",
      "Epoch 6/50\n",
      "62/61 [==============================] - 12s - loss: 3.3450 - mean_squared_error: 0.0350 - val_loss: 2.8584 - val_mean_squared_error: 0.0370\n",
      "Epoch 7/50\n",
      "62/61 [==============================] - 12s - loss: 2.4627 - mean_squared_error: 0.0335 - val_loss: 2.0983 - val_mean_squared_error: 0.0373\n",
      "Epoch 8/50\n",
      "62/61 [==============================] - 12s - loss: 1.7999 - mean_squared_error: 0.0321 - val_loss: 1.5296 - val_mean_squared_error: 0.0361\n",
      "Epoch 9/50\n",
      "62/61 [==============================] - 12s - loss: 1.3081 - mean_squared_error: 0.0312 - val_loss: 1.1117 - val_mean_squared_error: 0.0366\n",
      "Epoch 10/50\n",
      "62/61 [==============================] - 12s - loss: 0.9464 - mean_squared_error: 0.0301 - val_loss: 0.8049 - val_mean_squared_error: 0.0361\n",
      "Epoch 11/50\n",
      "62/61 [==============================] - 12s - loss: 0.6849 - mean_squared_error: 0.0310 - val_loss: 0.5835 - val_mean_squared_error: 0.0361\n",
      "Epoch 12/50\n",
      "62/61 [==============================] - 12s - loss: 0.4951 - mean_squared_error: 0.0300 - val_loss: 0.4250 - val_mean_squared_error: 0.0359\n",
      "Epoch 13/50\n",
      "62/61 [==============================] - 12s - loss: 0.3594 - mean_squared_error: 0.0291 - val_loss: 0.3112 - val_mean_squared_error: 0.0348\n",
      "Epoch 14/50\n",
      "62/61 [==============================] - 12s - loss: 0.2643 - mean_squared_error: 0.0296 - val_loss: 0.2307 - val_mean_squared_error: 0.0342\n",
      "Epoch 15/50\n",
      "62/61 [==============================] - 12s - loss: 0.1966 - mean_squared_error: 0.0292 - val_loss: 0.1749 - val_mean_squared_error: 0.0346\n",
      "Epoch 16/50\n",
      "62/61 [==============================] - 12s - loss: 0.1495 - mean_squared_error: 0.0296 - val_loss: 0.1344 - val_mean_squared_error: 0.0331\n",
      "Epoch 17/50\n",
      "62/61 [==============================] - 12s - loss: 0.1156 - mean_squared_error: 0.0289 - val_loss: 0.1086 - val_mean_squared_error: 0.0351\n",
      "Epoch 18/50\n",
      "62/61 [==============================] - 12s - loss: 0.0908 - mean_squared_error: 0.0273 - val_loss: 0.0873 - val_mean_squared_error: 0.0333\n",
      "Epoch 19/50\n",
      "62/61 [==============================] - 12s - loss: 0.0742 - mean_squared_error: 0.0274 - val_loss: 0.0729 - val_mean_squared_error: 0.0326\n",
      "Epoch 20/50\n",
      "62/61 [==============================] - 12s - loss: 0.0637 - mean_squared_error: 0.0285 - val_loss: 0.0643 - val_mean_squared_error: 0.0336\n",
      "Epoch 21/50\n",
      "62/61 [==============================] - 12s - loss: 0.0543 - mean_squared_error: 0.0272 - val_loss: 0.0568 - val_mean_squared_error: 0.0330\n",
      "Epoch 22/50\n",
      "62/61 [==============================] - 12s - loss: 0.0481 - mean_squared_error: 0.0270 - val_loss: 0.0509 - val_mean_squared_error: 0.0325\n",
      "Epoch 23/50\n",
      "62/61 [==============================] - 12s - loss: 0.0449 - mean_squared_error: 0.0282 - val_loss: 0.0482 - val_mean_squared_error: 0.0336\n",
      "Epoch 24/50\n",
      "62/61 [==============================] - 12s - loss: 0.0413 - mean_squared_error: 0.0278 - val_loss: 0.0448 - val_mean_squared_error: 0.0322\n",
      "Epoch 25/50\n",
      "62/61 [==============================] - 12s - loss: 0.0388 - mean_squared_error: 0.0276 - val_loss: 0.0428 - val_mean_squared_error: 0.0324\n",
      "Epoch 26/50\n",
      "62/61 [==============================] - 12s - loss: 0.0364 - mean_squared_error: 0.0268 - val_loss: 0.0410 - val_mean_squared_error: 0.0323\n",
      "Epoch 27/50\n",
      "62/61 [==============================] - 12s - loss: 0.0349 - mean_squared_error: 0.0266 - val_loss: 0.0404 - val_mean_squared_error: 0.0324\n",
      "Epoch 28/50\n",
      "62/61 [==============================] - 12s - loss: 0.0346 - mean_squared_error: 0.0271 - val_loss: 0.0381 - val_mean_squared_error: 0.0307\n",
      "Epoch 29/50\n",
      "62/61 [==============================] - 12s - loss: 0.0329 - mean_squared_error: 0.0261 - val_loss: 0.0379 - val_mean_squared_error: 0.0316\n",
      "Epoch 30/50\n",
      "62/61 [==============================] - 12s - loss: 0.0328 - mean_squared_error: 0.0267 - val_loss: 0.0378 - val_mean_squared_error: 0.0320\n",
      "Epoch 31/50\n",
      "62/61 [==============================] - 12s - loss: 0.0331 - mean_squared_error: 0.0273 - val_loss: 0.0375 - val_mean_squared_error: 0.0315\n",
      "Epoch 32/50\n",
      "25/61 [===========>..................] - ETA: 5s - loss: 0.0304 - mean_squared_error: 0.0246"
     ]
    }
   ],
   "source": [
    "from keras.callbacks import ModelCheckpoint, Callback\n",
    "checkpoint_callback = ModelCheckpoint('model{epoch:02d}.h5')\n",
    "history = model.fit_generator(train_generator, steps_per_epoch=train_data_size/batch_size/3, \\\n",
    "                   validation_data=validation_generator, validation_steps=validation_data_size/batch_size, \\\n",
    "                   epochs=50, max_q_size=1, callbacks=[checkpoint_callback])"
   ]
  },
  {
   "cell_type": "markdown",
   "metadata": {},
   "source": [
    "### Evaluate"
   ]
  },
  {
   "cell_type": "code",
   "execution_count": 51,
   "metadata": {
    "collapsed": true
   },
   "outputs": [],
   "source": [
    "metrics = model.evaluate_generator(test_generator, steps=test_data_size/batch_size)"
   ]
  },
  {
   "cell_type": "code",
   "execution_count": 52,
   "metadata": {},
   "outputs": [
    {
     "name": "stdout",
     "output_type": "stream",
     "text": [
      "('loss', 0.026486937329173087)\n",
      "('acc', 0.56031249999999999)\n"
     ]
    }
   ],
   "source": [
    "for i in zip(model.metrics_names, metrics):\n",
    "    print(i)"
   ]
  },
  {
   "cell_type": "code",
   "execution_count": 53,
   "metadata": {
    "collapsed": true
   },
   "outputs": [],
   "source": [
    "model.save(\"model.h5\")"
   ]
  },
  {
   "cell_type": "code",
   "execution_count": null,
   "metadata": {
    "collapsed": true
   },
   "outputs": [],
   "source": []
  }
 ],
 "metadata": {
  "kernelspec": {
   "display_name": "Python 3",
   "language": "python",
   "name": "python3"
  },
  "language_info": {
   "codemirror_mode": {
    "name": "ipython",
    "version": 3
   },
   "file_extension": ".py",
   "mimetype": "text/x-python",
   "name": "python",
   "nbconvert_exporter": "python",
   "pygments_lexer": "ipython3",
   "version": "3.5.2"
  },
  "widgets": {
   "state": {},
   "version": "1.1.2"
  }
 },
 "nbformat": 4,
 "nbformat_minor": 2
}
